{
 "cells": [
  {
   "cell_type": "code",
   "execution_count": 29,
   "metadata": {},
   "outputs": [],
   "source": [
    "from Bio import SeqIO\n",
    "import pandas as pd\n",
    "import matplotlib.pyplot as plt\n",
    "import pandas as pd"
   ]
  },
  {
   "cell_type": "code",
   "execution_count": 31,
   "metadata": {},
   "outputs": [
    {
     "name": "stderr",
     "output_type": "stream",
     "text": [
      "/anaconda3/lib/python3.6/site-packages/ipykernel_launcher.py:5: DeprecationWarning: 'U' mode is deprecated\n",
      "  \"\"\"\n",
      "/anaconda3/lib/python3.6/site-packages/ipykernel_launcher.py:22: DeprecationWarning: 'U' mode is deprecated\n"
     ]
    }
   ],
   "source": [
    "#### Load 5UTR Fasta files into dataframe\n",
    "\n",
    "UTR5_Dict={}\n",
    "UTR5_Dict2={}\n",
    "with open(\"5UTR.fasta\", \"rU\") as handle:\n",
    "    for record in SeqIO.parse(handle, \"fasta\"):\n",
    "        UTR5_Dict[record.id]= record.seq\n",
    "        UTR5_Dict2[record.id]= len(record.seq)\n",
    "s1 = pd.Series(data=UTR5_Dict)\n",
    "s2 =pd.Series(data=UTR5_Dict2)\n",
    "df_5UTR= pd.concat([s1, s2], axis=1)\n",
    "df_5UTR=df_5UTR.rename(columns={0:\"Sequence\", 1:\"Sequence Length\"})\n",
    "\n",
    "df_5UTR.index.name = 'Gene'\n",
    "UTR5_meanlength= df_5UTR[\"Sequence Length\"].mean() #Get mean length of 5UTR\n",
    "UTR5_num=df_5UTR.count()[0]#Get number of squences for 5UTR\n",
    "\n",
    "\n",
    "#### Load 3UTR Fasta files into dataframe\n",
    "UTR3_Dict={}\n",
    "UTR3_Dict2={}\n",
    "with open(\"3UTR.fasta\", \"rU\") as handle:\n",
    "    for record in SeqIO.parse(handle, \"fasta\"):\n",
    "        UTR3_Dict[record.id]= record.seq\n",
    "        UTR3_Dict2[record.id]= len(record.seq)\n",
    "s1 = pd.Series(data=UTR3_Dict)\n",
    "s2 =pd.Series(data=UTR3_Dict2)\n",
    "df_3UTR= pd.concat([s1, s2], axis=1)\n",
    "df_3UTR=df_3UTR.rename(columns={0:\"Sequence\", 1:\"Sequence Length\"})\n",
    "\n",
    "\n",
    "df_3UTR.index.name = 'Gene'\n",
    "UTR3_meanlength= df_3UTR[\"Sequence Length\"].mean()#Get mean length of 3UTR\n",
    "UTR3_num=df_3UTR.count()[0] #Get number of squences for 3UTR\n"
   ]
  },
  {
   "cell_type": "code",
   "execution_count": 38,
   "metadata": {},
   "outputs": [
    {
     "data": {
      "text/html": [
       "<div>\n",
       "<style scoped>\n",
       "    .dataframe tbody tr th:only-of-type {\n",
       "        vertical-align: middle;\n",
       "    }\n",
       "\n",
       "    .dataframe tbody tr th {\n",
       "        vertical-align: top;\n",
       "    }\n",
       "\n",
       "    .dataframe thead th {\n",
       "        text-align: right;\n",
       "    }\n",
       "</style>\n",
       "<table border=\"1\" class=\"dataframe\">\n",
       "  <thead>\n",
       "    <tr style=\"text-align: right;\">\n",
       "      <th></th>\n",
       "      <th>Sequence</th>\n",
       "      <th>Sequence Length</th>\n",
       "    </tr>\n",
       "    <tr>\n",
       "      <th>Gene</th>\n",
       "      <th></th>\n",
       "      <th></th>\n",
       "    </tr>\n",
       "  </thead>\n",
       "  <tbody>\n",
       "    <tr>\n",
       "      <th>danRer11_ensGene_ENSDART00000000004.5</th>\n",
       "      <td>(G, C, G, G, A, A, G, C, C, G, T, G, G, G, C, ...</td>\n",
       "      <td>57</td>\n",
       "    </tr>\n",
       "    <tr>\n",
       "      <th>danRer11_ensGene_ENSDART00000000042.11</th>\n",
       "      <td>(T, T, A, C, C, T, G, C, T, C, C, A, G, G, T, ...</td>\n",
       "      <td>35</td>\n",
       "    </tr>\n",
       "    <tr>\n",
       "      <th>danRer11_ensGene_ENSDART00000000069.8</th>\n",
       "      <td>(A, G, T, T, G, C, A, A, C, A, C, A, G, T, G, ...</td>\n",
       "      <td>138</td>\n",
       "    </tr>\n",
       "    <tr>\n",
       "      <th>danRer11_ensGene_ENSDART00000000070.7</th>\n",
       "      <td>(A, T, C, A, C, G, C, A, C, C, G, T, T, G, C, ...</td>\n",
       "      <td>153</td>\n",
       "    </tr>\n",
       "    <tr>\n",
       "      <th>danRer11_ensGene_ENSDART00000000160.10</th>\n",
       "      <td>(C, G, C, A, T, A, C, T, T, C, T, A, T, A, C, ...</td>\n",
       "      <td>449</td>\n",
       "    </tr>\n",
       "  </tbody>\n",
       "</table>\n",
       "</div>"
      ],
      "text/plain": [
       "                                                                                 Sequence  \\\n",
       "Gene                                                                                        \n",
       "danRer11_ensGene_ENSDART00000000004.5   (G, C, G, G, A, A, G, C, C, G, T, G, G, G, C, ...   \n",
       "danRer11_ensGene_ENSDART00000000042.11  (T, T, A, C, C, T, G, C, T, C, C, A, G, G, T, ...   \n",
       "danRer11_ensGene_ENSDART00000000069.8   (A, G, T, T, G, C, A, A, C, A, C, A, G, T, G, ...   \n",
       "danRer11_ensGene_ENSDART00000000070.7   (A, T, C, A, C, G, C, A, C, C, G, T, T, G, C, ...   \n",
       "danRer11_ensGene_ENSDART00000000160.10  (C, G, C, A, T, A, C, T, T, C, T, A, T, A, C, ...   \n",
       "\n",
       "                                        Sequence Length  \n",
       "Gene                                                     \n",
       "danRer11_ensGene_ENSDART00000000004.5                57  \n",
       "danRer11_ensGene_ENSDART00000000042.11               35  \n",
       "danRer11_ensGene_ENSDART00000000069.8               138  \n",
       "danRer11_ensGene_ENSDART00000000070.7               153  \n",
       "danRer11_ensGene_ENSDART00000000160.10              449  "
      ]
     },
     "execution_count": 38,
     "metadata": {},
     "output_type": "execute_result"
    }
   ],
   "source": [
    "df_5UTR.head()\n"
   ]
  },
  {
   "cell_type": "code",
   "execution_count": 33,
   "metadata": {},
   "outputs": [
    {
     "data": {
      "text/html": [
       "<div>\n",
       "<style scoped>\n",
       "    .dataframe tbody tr th:only-of-type {\n",
       "        vertical-align: middle;\n",
       "    }\n",
       "\n",
       "    .dataframe tbody tr th {\n",
       "        vertical-align: top;\n",
       "    }\n",
       "\n",
       "    .dataframe thead th {\n",
       "        text-align: right;\n",
       "    }\n",
       "</style>\n",
       "<table border=\"1\" class=\"dataframe\">\n",
       "  <thead>\n",
       "    <tr style=\"text-align: right;\">\n",
       "      <th></th>\n",
       "      <th>Sequence</th>\n",
       "      <th>Sequence Length</th>\n",
       "    </tr>\n",
       "    <tr>\n",
       "      <th>Gene</th>\n",
       "      <th></th>\n",
       "      <th></th>\n",
       "    </tr>\n",
       "  </thead>\n",
       "  <tbody>\n",
       "    <tr>\n",
       "      <th>danRer11_ensGene_ENSDART00000000004.5</th>\n",
       "      <td>(G, T, G, G, G, A, T, T, T, G, A, A, C, T, C, ...</td>\n",
       "      <td>1096</td>\n",
       "    </tr>\n",
       "    <tr>\n",
       "      <th>danRer11_ensGene_ENSDART00000000042.11</th>\n",
       "      <td>(T, C, C, A, A, G, C, T, G, G, A, T, T, T, A, ...</td>\n",
       "      <td>75</td>\n",
       "    </tr>\n",
       "    <tr>\n",
       "      <th>danRer11_ensGene_ENSDART00000000069.8</th>\n",
       "      <td>(G, C, C, T, C, C, T, G, C, G, T, G, C, C, T, ...</td>\n",
       "      <td>740</td>\n",
       "    </tr>\n",
       "    <tr>\n",
       "      <th>danRer11_ensGene_ENSDART00000000070.7</th>\n",
       "      <td>(G, C, C, T, T, C, A, G, C, C, G, C, T, C, C, ...</td>\n",
       "      <td>1388</td>\n",
       "    </tr>\n",
       "    <tr>\n",
       "      <th>danRer11_ensGene_ENSDART00000000160.10</th>\n",
       "      <td>(A, C, C, T, C, G, T, T, T, C, G, G, T, C, C, ...</td>\n",
       "      <td>559</td>\n",
       "    </tr>\n",
       "  </tbody>\n",
       "</table>\n",
       "</div>"
      ],
      "text/plain": [
       "                                                                                 Sequence  \\\n",
       "Gene                                                                                        \n",
       "danRer11_ensGene_ENSDART00000000004.5   (G, T, G, G, G, A, T, T, T, G, A, A, C, T, C, ...   \n",
       "danRer11_ensGene_ENSDART00000000042.11  (T, C, C, A, A, G, C, T, G, G, A, T, T, T, A, ...   \n",
       "danRer11_ensGene_ENSDART00000000069.8   (G, C, C, T, C, C, T, G, C, G, T, G, C, C, T, ...   \n",
       "danRer11_ensGene_ENSDART00000000070.7   (G, C, C, T, T, C, A, G, C, C, G, C, T, C, C, ...   \n",
       "danRer11_ensGene_ENSDART00000000160.10  (A, C, C, T, C, G, T, T, T, C, G, G, T, C, C, ...   \n",
       "\n",
       "                                        Sequence Length  \n",
       "Gene                                                     \n",
       "danRer11_ensGene_ENSDART00000000004.5              1096  \n",
       "danRer11_ensGene_ENSDART00000000042.11               75  \n",
       "danRer11_ensGene_ENSDART00000000069.8               740  \n",
       "danRer11_ensGene_ENSDART00000000070.7              1388  \n",
       "danRer11_ensGene_ENSDART00000000160.10              559  "
      ]
     },
     "execution_count": 33,
     "metadata": {},
     "output_type": "execute_result"
    }
   ],
   "source": [
    "df_3UTR.head()\n"
   ]
  },
  {
   "cell_type": "code",
   "execution_count": 34,
   "metadata": {},
   "outputs": [
    {
     "name": "stdout",
     "output_type": "stream",
     "text": [
      "   Count     UTR\n",
      "0  40074  5' UTR\n",
      "1  37996  3' UTR\n"
     ]
    },
    {
     "data": {
      "image/png": "[encoded data removed]",
      "text/plain": [
       "<matplotlib.figure.Figure at 0x1271390f0>"
      ]
     },
     "metadata": {},
     "output_type": "display_data"
    }
   ],
   "source": [
    "#Make Bar Graph of number of genes\n",
    "\n",
    "df= pd.DataFrame(data={\"UTR\": [\"5' UTR\", \"3' UTR\"], \"Count\": [UTR5_num, UTR3_num]})\n",
    "print(df)\n",
    "fig = plt.figure(figsize=(10, 6))\n",
    "plt.bar(range(len(df['UTR'])),df['Count'], align = 'center')\n",
    "# Formatting graph\n",
    "plt.xticks(range(len(df['UTR'])), df['UTR'],rotation = 45, fontsize = 12)\n",
    "plt.xlabel('UTR', fontsize=14)\n",
    "plt.ylabel('Count', fontsize=14)\n",
    "plt.title('Number of Zebrafish Ensembl Gene sequences for each UTR from UCSC Genome Database', fontsize=16)\n",
    "\n",
    "plt.show()"
   ]
  },
  {
   "cell_type": "code",
   "execution_count": 35,
   "metadata": {},
   "outputs": [
    {
     "name": "stdout",
     "output_type": "stream",
     "text": [
      "         Mean     UTR\n",
      "0  303.838249  5' UTR\n",
      "1  905.884988  3' UTR\n"
     ]
    },
    {
     "data": {
      "image/png": "[encoded data removed]",
      "text/plain": [
       "<matplotlib.figure.Figure at 0x132f5cba8>"
      ]
     },
     "metadata": {},
     "output_type": "display_data"
    }
   ],
   "source": [
    "#Make Bar Graph of mean lengths\n",
    "\n",
    "df2= pd.DataFrame(data={\"UTR\": [\"5' UTR\", \"3' UTR\"], \"Mean\": [UTR5_meanlength, UTR3_meanlength]})\n",
    "print(df2)\n",
    "fig = plt.figure(figsize=(10, 6))\n",
    "plt.bar(range(len(df2['UTR'])),df2['Mean'], align = 'center')\n",
    "# Formatting graph\n",
    "plt.xticks(range(len(df2['UTR'])), df2['UTR'],rotation = 45, fontsize = 12)\n",
    "plt.xlabel('UTR', fontsize=14)\n",
    "plt.ylabel('Mean', fontsize=14)\n",
    "plt.title('Mean Length(BPs) of Zebrafish Ensembl Gene sequences for each UTR from UCSC Genome Database', fontsize=16)\n",
    "\n",
    "plt.show()"
   ]
  },
  {
   "cell_type": "code",
   "execution_count": null,
   "metadata": {},
   "outputs": [],
   "source": []
  }
 ],
 "metadata": {
  "kernelspec": {
   "display_name": "Python 3",
   "language": "python",
   "name": "python3"
  },
  "language_info": {
   "codemirror_mode": {
    "name": "ipython",
    "version": 3
   },
   "file_extension": ".py",
   "mimetype": "text/x-python",
   "name": "python",
   "nbconvert_exporter": "python",
   "pygments_lexer": "ipython3",
   "version": "3.6.4"
  }
 },
 "nbformat": 4,
 "nbformat_minor": 2
}
